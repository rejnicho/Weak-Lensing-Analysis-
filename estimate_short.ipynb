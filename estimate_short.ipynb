{
 "cells": [
  {
   "cell_type": "code",
   "execution_count": 1,
   "id": "9b1fea33-3a52-4f39-8869-ec30c211e18c",
   "metadata": {
    "execution": {
     "iopub.execute_input": "2024-06-17T23:55:46.806884Z",
     "iopub.status.busy": "2024-06-17T23:55:46.806765Z",
     "iopub.status.idle": "2024-06-17T23:55:47.362735Z",
     "shell.execute_reply": "2024-06-17T23:55:47.362230Z",
     "shell.execute_reply.started": "2024-06-17T23:55:46.806873Z"
    }
   },
   "outputs": [],
   "source": [
    "import scipy\n",
    "import os\n",
    "import galsim\n",
    "import sys\n",
    "import math\n",
    "import cmath\n",
    "import logging\n",
    "import numpy as np\n",
    "import astropy.io.fits as pyfits\n",
    "import matplotlib.pyplot as plt\n",
    "import sympy\n",
    "from sympy import Symbol, integrate "
   ]
  },
  {
   "cell_type": "code",
   "execution_count": 2,
   "id": "92d2635e-ff64-4f9d-b09d-2c4c298d08d2",
   "metadata": {
    "execution": {
     "iopub.execute_input": "2024-06-17T23:55:48.524411Z",
     "iopub.status.busy": "2024-06-17T23:55:48.524291Z",
     "iopub.status.idle": "2024-06-17T23:55:48.535831Z",
     "shell.execute_reply": "2024-06-17T23:55:48.535363Z",
     "shell.execute_reply.started": "2024-06-17T23:55:48.524401Z"
    }
   },
   "outputs": [],
   "source": [
    "# plotting \n",
    "def plotThreeGalaxies(image1, image2, image3, name1, name2, name3): \n",
    "    #create a plot \n",
    "    f, axs = plt.subplots(1, 3, figsize=(14,6))\n",
    "    im0 = axs[0].imshow(image1.array, origin='lower', interpolation='None')\n",
    "    axs[0].set_title(f'{name1}', fontsize=10)\n",
    "    im1 = axs[1].imshow(image2.array, origin='lower', interpolation='None')    \n",
    "    axs[1].set_title(f'{name2}', fontsize=10)\n",
    "    im2 = axs[2].imshow(image3, origin='lower', interpolation='None')   \n",
    "    axs[2].set_title(f'{name3}', fontsize=10)\n",
    "    f.colorbar(im0)\n",
    "    f.colorbar(im1)\n",
    "    f.colorbar(im2)\n",
    "\n",
    "## psf \n",
    "\n",
    "def makeSinglePSF():\n",
    "    # want the FWHM to be 0.6\" which is 3 pixels \n",
    "    psfobject = galsim.Gaussian(fwhm=0.6, flux=1.0)\n",
    "    #visualize the PSF \n",
    "    psfimage = psfobject.drawImage(scale=0.2)\n",
    "    return psfobject, psfimage \n",
    "\n",
    "def DetermineScaleFactors(psfimage): \n",
    "    # transform into fourier power function of the PSF \n",
    "    FFTpsf = galsim.fft.fft2(psfimage.array) \n",
    "    G = abs(FFTpsf)**2 # fourier power spectrum of the PSF \n",
    "\n",
    "    # Use G to determine rpp \n",
    "    # A is the area where the value is e^(-0.5) times the maximum of G (noiseless fourier power function of the psf) \n",
    "    gmax = G.max()\n",
    "    ncriteria = 0 \n",
    "    for pixel in G.flatten(): \n",
    "        if pixel > gmax*math.exp(-0.5):\n",
    "            ncriteria += 1\n",
    "\n",
    "    # rpp = scale radius of the PSF in fourier space \n",
    "    # converted number of pixels to an area of pixel (in arcsec^2) \n",
    "    rpp = (ncriteria*(0.2)*(0.2)/math.pi)**(1/2)\n",
    "\n",
    "    #use this to calculate sigma for shapelet basis functions \n",
    "    beta = 0.85 # effective scale radius in fourier space, set to 0.85 (Li 2018)\n",
    "    sigma = beta* rpp \n",
    "\n",
    "    alpha = 4 # effective scale in configuration space, set to 4 (Li 2018)\n",
    "\n",
    "    return sigma, G \n",
    "\n",
    "# gradient creating function \n",
    "\n",
    "def MakeGradientGradualTopBottom(order, galaxysize):\n",
    "    b = 2*order - 1/3 + 4/(405*order) + 46/(25515*order**2) +131/ (1148175*order**3) - 2194697/(30690717750*order**4) \n",
    "    FWHM = 0.2\n",
    "    re = -FWHM*b/(math.log(0.5))\n",
    "    newrows = [] \n",
    "    for x in range(18): \n",
    "        # return to flux \n",
    "        #specifiedflux = 1000+(x/18) \n",
    "        specifiedflux=10000\n",
    "        sersicgalaxy = galsim.Sersic(n=order, half_light_radius= re, flux=specifiedflux)\n",
    "        sersicgalaxyimage = sersicgalaxy.drawImage(nx=18, ny=18, scale=0.2)\n",
    "        if x == 0: \n",
    "            gradientarray = sersicgalaxyimage.array[x]\n",
    "        else: \n",
    "            newrows.append(sersicgalaxyimage.array[x])\n",
    "    \n",
    "    for array in newrows: \n",
    "        gradientarray = np.vstack([gradientarray, array])\n",
    "    \n",
    "    #convert gradientArray to image \n",
    "    gradientimage = galsim.Image(gradientarray, copy=True)\n",
    "\n",
    "    #convert the fits file to an object \n",
    "    gradientobject = galsim.InterpolatedImage(image=gradientimage, scale=0.2)\n",
    "    \n",
    "    return gradientobject, gradientimage\n",
    "\n",
    "# convolution, treatment \n",
    "def ConvolveGalaxyPSF(galaxy, psf):\n",
    "    # convolve the galaxy and psf (psf, sersic_gal) (integral 2d of psf*galaxy) \n",
    "    colv = galsim.Convolution(galaxy, psf, real_space=True)\n",
    "    # take the fourier transform, need to make this into an image \n",
    "    convolveimage = colv.drawImage(nx=18, ny=18, scale=0.2)\n",
    "    FFTcolv = galsim.fft.fft2(convolveimage.array) \n",
    "    F = abs(FFTcolv)**2 \n",
    "    return F \n",
    "\n",
    "def RemovePSF(F, G):\n",
    "    Fnopsf = F/ G\n",
    "    #plt.imshow(Fnopsf, origin='lower', interpolation='None')\n",
    "    #plt.title(\"Fourier power function, psf removed\")\n",
    "    #plt.colorbar()\n",
    "    return Fnopsf\n",
    "\n",
    "def X00Star(r, sigma): #evaluate X00star for a specified value of r     \n",
    "    b = math.exp(-(r**2)/2*sigma**2)\n",
    "    c = (math.pi**(1/2)*sigma**3)\n",
    "    return b/c\n",
    "\n",
    "def X22StarTrig(r, t, sigma): # using Eulers formula\n",
    "    a = r**2\n",
    "    b = math.exp(-(r**2)/2*sigma**2) \n",
    "    z = complex(math.cos(2*t), math.sin(2*t)) \n",
    "    d = math.pi**(1/2)*2**(1/2)*sigma**3\n",
    "    value = a*b*z/d\n",
    "    return value\n",
    "\n",
    "def calculateListMnm(Fnopsf, sigma):\n",
    "    M00array = []\n",
    "    M22arrayreal = []\n",
    "    M22arrayimag = []\n",
    "    for idx, val in np.ndenumerate(Fnopsf): \n",
    "        # determine the position in the array, convert to its position in F.S. (rho, phi)\n",
    "\n",
    "        nr = idx[0] \n",
    "        nc = idx[1] \n",
    "        x = nc - 9 # index of the column \n",
    "        y = 9 - nr # index of the row \n",
    "        r = (x**2 + y**2)**(1/2) # rho \n",
    "        \n",
    "        if x == 0: \n",
    "            if y > 0: \n",
    "                t = math.pi/ 2\n",
    "            elif y < 0: \n",
    "                t = 3*math.pi/2 \n",
    "        else:     \n",
    "            t = np.arctan(y/x) \n",
    "\n",
    "        # evaluate the shapelet basis functions at position \n",
    "        # evaluate function X00star \n",
    "        X00= X00Star(r, sigma)         \n",
    "        Xval00 = X00 * val\n",
    "        M00array.append(Xval00)\n",
    "\n",
    "        # evaluate function X22star \n",
    "        X22 = X22StarTrig(r, t, sigma)\n",
    "        X22real = X22.real\n",
    "        X22imag = X22.imag\n",
    "        \n",
    "        M22arrayreal.append(X22real * val) \n",
    "        M22arrayimag.append(X22imag * val) \n",
    "    \n",
    "    return M00array, M22arrayreal, M22arrayimag\n",
    "\n",
    "def determineEllipticities(M00array, M22arrayreal, M22arrayimag):\n",
    "    M00 = sum(M00array)\n",
    "    M22C = sum(M22arrayreal)\n",
    "    M22S = sum(M22arrayimag)\n",
    "    C = 1 # adjusts the relative weight between galaxies of different luminosities\n",
    "    e1 = M22C / (M00 + C) \n",
    "    e2 = M22S / (M00 + C) \n",
    "    return e1, e2 "
   ]
  },
  {
   "cell_type": "code",
   "execution_count": 6,
   "id": "eae287a9-353f-4d26-a467-3b96c0022a2c",
   "metadata": {
    "execution": {
     "iopub.execute_input": "2024-06-17T23:58:14.383986Z",
     "iopub.status.busy": "2024-06-17T23:58:14.383767Z",
     "iopub.status.idle": "2024-06-17T23:58:14.388564Z",
     "shell.execute_reply": "2024-06-17T23:58:14.388173Z",
     "shell.execute_reply.started": "2024-06-17T23:58:14.383973Z"
    }
   },
   "outputs": [],
   "source": [
    "def simulatedGalaxyWithConversion(order, galaxysize, flux, plot, printe1e2, convert): \n",
    "    # generate a PSF \n",
    "    psfobject, psfimage = makeSinglePSF() \n",
    "    sigma, G = DetermineScaleFactors(psfimage)\n",
    "\n",
    "    # generate a galaxy \n",
    "    b = 2*order - 1/3 + 4/(405*order) + 46/(25515*order**2) +131/ (1148175*order**3) - 2194697/(30690717750*order**4) \n",
    "    FWHM = 0.2\n",
    "    re = -FWHM*b/(math.log(0.5))\n",
    "    \n",
    "    galaxyobject = galsim.Sersic(n=order, half_light_radius= re, flux=flux)\n",
    "    galaxyimage = galaxyobject.drawImage(scale=0.2, nx=18, ny=18)\n",
    "\n",
    "    if convert == True: \n",
    "        #convert galaxyimagearray to image \n",
    "        galaxyimage = galsim.Image(galaxyimage.array, copy=True)\n",
    "        # from iterations, I know the issue is not here in the image portion \n",
    "\n",
    "        #convert the fits file to an object \n",
    "        galaxyobject = galsim.InterpolatedImage(image=galaxyimage, scale=0.2, flux=10000)\n",
    "        \n",
    "    # transform into FS\n",
    "    F = ConvolveGalaxyPSF(galaxyobject, psfobject)\n",
    "    Fnopsf = RemovePSF(F, G)\n",
    "\n",
    "    M00array, M22arrayreal, M22arrayimag = calculateListMnm(Fnopsf, sigma)\n",
    "    e1, e2 = determineEllipticities(M00array, M22arrayreal, M22arrayimag)\n",
    "\n",
    "    if plot == True: \n",
    "        plotThreeGalaxies(psfimage, galaxyobject, F, \"psf\", \"galaxy\", \"convolved, F\")\n",
    "\n",
    "    if printe1e2 == True:\n",
    "        print(\"e1, e2:\", e1, e2) \n",
    "    \n",
    "    return e1, e2"
   ]
  },
  {
   "cell_type": "code",
   "execution_count": 7,
   "id": "abf258b4-bdb9-4da4-9bbf-9cae876800dd",
   "metadata": {
    "execution": {
     "iopub.execute_input": "2024-06-17T23:58:15.027969Z",
     "iopub.status.busy": "2024-06-17T23:58:15.027524Z",
     "iopub.status.idle": "2024-06-17T23:58:15.034948Z",
     "shell.execute_reply": "2024-06-17T23:58:15.034576Z",
     "shell.execute_reply.started": "2024-06-17T23:58:15.027956Z"
    }
   },
   "outputs": [
    {
     "name": "stdout",
     "output_type": "stream",
     "text": [
      "e1, e2: 1.0228934600114813e-06 -0.0032300583054547124\n"
     ]
    }
   ],
   "source": [
    "a,b = simulatedGalaxyWithConversion(order=1, galaxysize=16*16, flux=10000, plot=False, printe1e2=True, convert=False)"
   ]
  },
  {
   "cell_type": "code",
   "execution_count": 8,
   "id": "26e54038-8601-4f44-a39d-bf9d96945573",
   "metadata": {
    "execution": {
     "iopub.execute_input": "2024-06-17T23:58:16.315200Z",
     "iopub.status.busy": "2024-06-17T23:58:16.315008Z",
     "iopub.status.idle": "2024-06-17T23:58:16.322810Z",
     "shell.execute_reply": "2024-06-17T23:58:16.322444Z",
     "shell.execute_reply.started": "2024-06-17T23:58:16.315188Z"
    }
   },
   "outputs": [
    {
     "name": "stdout",
     "output_type": "stream",
     "text": [
      "e1, e2: 1.7058811419701232 -0.00010649666155869542\n"
     ]
    }
   ],
   "source": [
    "a,b = simulatedGalaxyWithConversion(order=1, galaxysize=16*16, flux=10000, plot=False, printe1e2=True, convert=True)"
   ]
  },
  {
   "cell_type": "code",
   "execution_count": null,
   "id": "86163f94-4abd-4fcf-bc31-62328e8090f0",
   "metadata": {},
   "outputs": [],
   "source": []
  }
 ],
 "metadata": {
  "kernelspec": {
   "display_name": "LSST",
   "language": "python",
   "name": "lsst"
  },
  "language_info": {
   "codemirror_mode": {
    "name": "ipython",
    "version": 3
   },
   "file_extension": ".py",
   "mimetype": "text/x-python",
   "name": "python",
   "nbconvert_exporter": "python",
   "pygments_lexer": "ipython3",
   "version": "3.11.7"
  }
 },
 "nbformat": 4,
 "nbformat_minor": 5
}
